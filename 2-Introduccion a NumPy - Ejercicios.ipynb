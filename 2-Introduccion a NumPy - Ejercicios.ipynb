{
 "cells": [
  {
   "cell_type": "markdown",
   "metadata": {},
   "source": [
    "# Introduccion a NumPy - Ejercicios"
   ]
  },
  {
   "cell_type": "markdown",
   "metadata": {},
   "source": [
    "Empezamos a trabajar como data Analyst en una famosa panaderia de la ciudad, y el dueño require de nuestra ayuda para las recetas"
   ]
  },
  {
   "cell_type": "markdown",
   "metadata": {},
   "source": [
    "### 1- Empieze importando NumPy como `np`"
   ]
  },
  {
   "cell_type": "code",
   "execution_count": null,
   "metadata": {},
   "outputs": [],
   "source": []
  },
  {
   "cell_type": "markdown",
   "metadata": {},
   "source": [
    "Todas las recetas de la panaderia necesitan de `milk, eggs, sugar, flour, y butter`. Por ejemplo, un cupcake necesita de: `|Flour|Sugar|Eggs|Milk|Butter| \n",
    "|2 cups|0.75 cups|2 eggs|1 cups|0.5 cups|`\n",
    "    \n",
    "### 2- Cree un array de NumPy que represente esta data. Cada elemento debe ser un numero (por ejemplo `2` para \"2 cups\"). Guarde este array como `cupcakes`"
   ]
  },
  {
   "cell_type": "code",
   "execution_count": null,
   "metadata": {},
   "outputs": [],
   "source": []
  },
  {
   "cell_type": "markdown",
   "metadata": {},
   "source": [
    "El asistente de la panaderia ha compilado todas las recetas en un archivo `csv` llamado `recipes.csv`. Este archivo podrá encontrarlo en los links suministrados.\n",
    "\n",
    "### 3- Cargue este archivo en una variable llamada `recipes`"
   ]
  },
  {
   "cell_type": "code",
   "execution_count": null,
   "metadata": {},
   "outputs": [],
   "source": []
  },
  {
   "cell_type": "markdown",
   "metadata": {},
   "source": [
    "### 4- Imprima `recipes`"
   ]
  },
  {
   "cell_type": "code",
   "execution_count": null,
   "metadata": {},
   "outputs": [],
   "source": []
  },
  {
   "cell_type": "markdown",
   "metadata": {},
   "source": [
    "Cada fila representa una receta diferente. Cada columna representa un ingrediente diferente:\n",
    "\n",
    "`|Recipe|Cups of Flour|Cups of Sugar|Eggs|Cups of Milk|Cups of Butter|\n",
    " |Cupcakes|…|…|…|…|…| \n",
    " |Pancake|…|…|…|…|…| \n",
    " |Cookie|…|…|…|…|…| \n",
    " |Bread|…|…|…|…|…|`"
   ]
  },
  {
   "cell_type": "markdown",
   "metadata": {},
   "source": [
    "La tercera columna representa el numero de `eggs` que cada receta necesita. \n",
    "\n",
    "### 5- Seleccione todos los elementos de la tercera columna y guardelos en una variable llamada `eggs`"
   ]
  },
  {
   "cell_type": "code",
   "execution_count": null,
   "metadata": {},
   "outputs": [],
   "source": []
  },
  {
   "cell_type": "markdown",
   "metadata": {},
   "source": [
    "### 6- Cuales recetas requiren exactamente 1 egg? Use una sentencia logica para obtener `True` o `False` para cada valor de `eggs`"
   ]
  },
  {
   "cell_type": "code",
   "execution_count": null,
   "metadata": {},
   "outputs": [],
   "source": []
  },
  {
   "cell_type": "markdown",
   "metadata": {},
   "source": [
    "El dueño quiere realizar dos tandas e cupcakes (primera fila) y una tanda de cookies (tercera fila)\n",
    "\n",
    "### 7- Usted actualmente tiene una variable para `cupcakes`. Cree una variable para cookies con los datos de la tercera fila"
   ]
  },
  {
   "cell_type": "code",
   "execution_count": null,
   "metadata": {},
   "outputs": [],
   "source": []
  },
  {
   "cell_type": "markdown",
   "metadata": {},
   "source": [
    "### 8- Obtenga el numero de ingredientes para dos tandas de cupcakes usando la multiplicacion en `cupcakes`. Guarde la nueva variable en  `double_batch`"
   ]
  },
  {
   "cell_type": "code",
   "execution_count": null,
   "metadata": {},
   "outputs": [],
   "source": []
  },
  {
   "cell_type": "markdown",
   "metadata": {},
   "source": [
    "### 9- Cree una nueva variable llamada `grocery_list` añadiendole `cookies` y `double_batch`"
   ]
  },
  {
   "cell_type": "code",
   "execution_count": null,
   "metadata": {},
   "outputs": [],
   "source": []
  }
 ],
 "metadata": {
  "kernelspec": {
   "display_name": "Python 3",
   "language": "python",
   "name": "python3"
  },
  "language_info": {
   "codemirror_mode": {
    "name": "ipython",
    "version": 3
   },
   "file_extension": ".py",
   "mimetype": "text/x-python",
   "name": "python",
   "nbconvert_exporter": "python",
   "pygments_lexer": "ipython3",
   "version": "3.5.2"
  }
 },
 "nbformat": 4,
 "nbformat_minor": 2
}
